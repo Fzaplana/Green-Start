{
  "nbformat": 4,
  "nbformat_minor": 0,
  "metadata": {
    "colab": {
      "name": "Hpsp_4.ipynb",
      "provenance": [],
      "collapsed_sections": [],
      "authorship_tag": "ABX9TyNqhepIgdKpe9/ajITAHj89",
      "include_colab_link": true
    },
    "kernelspec": {
      "name": "python3",
      "display_name": "Python 3"
    }
  },
  "cells": [
    {
      "cell_type": "markdown",
      "metadata": {
        "id": "view-in-github",
        "colab_type": "text"
      },
      "source": [
        "<a href=\"https://colab.research.google.com/github/Fzaplana/Green-Start/blob/master/Hpsp_4.ipynb\" target=\"_parent\"><img src=\"https://colab.research.google.com/assets/colab-badge.svg\" alt=\"Open In Colab\"/></a>"
      ]
    },
    {
      "cell_type": "code",
      "metadata": {
        "id": "qIa9KOtZ7uOV",
        "colab_type": "code",
        "colab": {
          "base_uri": "https://localhost:8080/",
          "height": 72
        },
        "outputId": "0284f654-fd04-48cc-d176-89168d71d83d"
      },
      "source": [
        "import pandas as pd\n",
        "import numpy as np\n",
        "import matplotlib.pyplot as plt\n",
        "import seaborn as sns\n",
        "\n",
        "%matplotlib inline"
      ],
      "execution_count": 1,
      "outputs": [
        {
          "output_type": "stream",
          "text": [
            "/usr/local/lib/python3.6/dist-packages/statsmodels/tools/_testing.py:19: FutureWarning: pandas.util.testing is deprecated. Use the functions in the public API at pandas.testing instead.\n",
            "  import pandas.util.testing as tm\n"
          ],
          "name": "stderr"
        }
      ]
    },
    {
      "cell_type": "code",
      "metadata": {
        "id": "AfEHHTdB76IA",
        "colab_type": "code",
        "colab": {
          "base_uri": "https://localhost:8080/",
          "height": 125
        },
        "outputId": "66ad6b29-911a-4bec-f931-5b854e5903fd"
      },
      "source": [
        "from google.colab import drive\n",
        "drive.mount('/content/drive')"
      ],
      "execution_count": 2,
      "outputs": [
        {
          "output_type": "stream",
          "text": [
            "Go to this URL in a browser: https://accounts.google.com/o/oauth2/auth?client_id=947318989803-6bn6qk8qdgf4n4g3pfee6491hc0brc4i.apps.googleusercontent.com&redirect_uri=urn%3aietf%3awg%3aoauth%3a2.0%3aoob&response_type=code&scope=email%20https%3a%2f%2fwww.googleapis.com%2fauth%2fdocs.test%20https%3a%2f%2fwww.googleapis.com%2fauth%2fdrive%20https%3a%2f%2fwww.googleapis.com%2fauth%2fdrive.photos.readonly%20https%3a%2f%2fwww.googleapis.com%2fauth%2fpeopleapi.readonly\n",
            "\n",
            "Enter your authorization code:\n",
            "··········\n",
            "Mounted at /content/drive\n"
          ],
          "name": "stdout"
        }
      ]
    },
    {
      "cell_type": "code",
      "metadata": {
        "id": "lI9jtqzS79v8",
        "colab_type": "code",
        "colab": {
          "base_uri": "https://localhost:8080/",
          "height": 34
        },
        "outputId": "33197ab0-9ba1-4c59-f01d-e570287d27d1"
      },
      "source": [
        "import os\n",
        "#os.chdir('/Users/franciscozaplana/Downloads/TESIS')\n",
        "os.chdir('/content/drive/My Drive/Download/TESIS/')\n",
        "os.getcwd()"
      ],
      "execution_count": 4,
      "outputs": [
        {
          "output_type": "execute_result",
          "data": {
            "text/plain": [
              "'/content/drive/My Drive/Download/TESIS'"
            ]
          },
          "metadata": {
            "tags": []
          },
          "execution_count": 4
        }
      ]
    },
    {
      "cell_type": "code",
      "metadata": {
        "id": "qgHXaDuC_BSV",
        "colab_type": "code",
        "colab": {
          "base_uri": "https://localhost:8080/",
          "height": 34
        },
        "outputId": "9b3e8abe-2a6d-4432-a191-f77ff2997f30"
      },
      "source": [
        "pd.set_option('display.max_columns',50)\n",
        "pd.get_option(\"display.max_columns\")"
      ],
      "execution_count": 14,
      "outputs": [
        {
          "output_type": "execute_result",
          "data": {
            "text/plain": [
              "50"
            ]
          },
          "metadata": {
            "tags": []
          },
          "execution_count": 14
        }
      ]
    },
    {
      "cell_type": "code",
      "metadata": {
        "id": "v8einCsj_EHq",
        "colab_type": "code",
        "colab": {}
      },
      "source": [
        "sns.set(style=\"white\")\n",
        "sns.set(style=\"whitegrid\", color_codes=True)"
      ],
      "execution_count": 0,
      "outputs": []
    },
    {
      "cell_type": "markdown",
      "metadata": {
        "id": "gzi1BlDn-1jE",
        "colab_type": "text"
      },
      "source": [
        "# Import Datasets:\n",
        "\n",
        "Importamos el Dataset extraido de OpenData de Barcelona de los Hospitales y Centros de primera atención.\n",
        "\n",
        "Solo importamos las columnas mas relevantes para nuestro analisis, las hemos seleccionado previamente."
      ]
    },
    {
      "cell_type": "code",
      "metadata": {
        "id": "b_WXgE0S8OkL",
        "colab_type": "code",
        "colab": {}
      },
      "source": [
        "Hosp = pd.read_csv('S0002_Hospitals_I_dAtencio_Primaria.csv', usecols=[0,1,2,3,4,5,6,7,8,9,10,11,14,15,16,17,18,19])"
      ],
      "execution_count": 0,
      "outputs": []
    },
    {
      "cell_type": "code",
      "metadata": {
        "id": "yyJmKcp78XAs",
        "colab_type": "code",
        "colab": {
          "base_uri": "https://localhost:8080/",
          "height": 34
        },
        "outputId": "409e19cb-af40-45ff-80f9-9d567ade4622"
      },
      "source": [
        "# revisamos la cantidad de Columnas cargadas\n",
        "Hosp.columns.value_counts().sum()"
      ],
      "execution_count": 17,
      "outputs": [
        {
          "output_type": "execute_result",
          "data": {
            "text/plain": [
              "18"
            ]
          },
          "metadata": {
            "tags": []
          },
          "execution_count": 17
        }
      ]
    },
    {
      "cell_type": "code",
      "metadata": {
        "id": "06X9V1xP9DC7",
        "colab_type": "code",
        "colab": {
          "base_uri": "https://localhost:8080/",
          "height": 461
        },
        "outputId": "b5371e03-b9dd-4570-ed43-733d08505646"
      },
      "source": [
        "Hosp.info()"
      ],
      "execution_count": 10,
      "outputs": [
        {
          "output_type": "stream",
          "text": [
            "<class 'pandas.core.frame.DataFrame'>\n",
            "RangeIndex: 399 entries, 0 to 398\n",
            "Data columns (total 18 columns):\n",
            " #   Column           Non-Null Count  Dtype  \n",
            "---  ------           --------------  -----  \n",
            " 0   CODI_EQUIPAMENT  399 non-null    int64  \n",
            " 1   EQUIPAMENT       399 non-null    object \n",
            " 2   SECCIO           399 non-null    object \n",
            " 3   TIPUS_VIA        399 non-null    object \n",
            " 4   NOM_CARRER       399 non-null    object \n",
            " 5   NUM_CARRER_1     399 non-null    int64  \n",
            " 6   NUM_CARRER_2     396 non-null    float64\n",
            " 7   CODI_BARRI       399 non-null    int64  \n",
            " 8   NUM_BARRI        399 non-null    object \n",
            " 9   CODI_DISTRICTE   399 non-null    int64  \n",
            " 10  NOM_DISTRICTE    399 non-null    object \n",
            " 11  CODI_POSTAL      399 non-null    int64  \n",
            " 12  LATITUD          399 non-null    float64\n",
            " 13  LONGITUD         399 non-null    float64\n",
            " 14  X_ETRS89         399 non-null    float64\n",
            " 15  Y_ETRS89         399 non-null    float64\n",
            " 16  X_ED50           399 non-null    float64\n",
            " 17  Y_ED50           399 non-null    float64\n",
            "dtypes: float64(7), int64(5), object(6)\n",
            "memory usage: 56.2+ KB\n"
          ],
          "name": "stdout"
        }
      ]
    },
    {
      "cell_type": "markdown",
      "metadata": {
        "id": "JHOkJDDGB3Kn",
        "colab_type": "text"
      },
      "source": [
        "Revisamos la cantidad de Columnas con información nula"
      ]
    },
    {
      "cell_type": "code",
      "metadata": {
        "id": "E0JjM0Vh9Fgq",
        "colab_type": "code",
        "colab": {
          "base_uri": "https://localhost:8080/",
          "height": 354
        },
        "outputId": "6a9b37f8-5120-4ba3-f930-1cd427a5b22a"
      },
      "source": [
        "Hosp.isnull().sum()"
      ],
      "execution_count": 18,
      "outputs": [
        {
          "output_type": "execute_result",
          "data": {
            "text/plain": [
              "CODI_EQUIPAMENT    0\n",
              "EQUIPAMENT         0\n",
              "SECCIO             0\n",
              "TIPUS_VIA          0\n",
              "NOM_CARRER         0\n",
              "NUM_CARRER_1       0\n",
              "NUM_CARRER_2       3\n",
              "CODI_BARRI         0\n",
              "NUM_BARRI          0\n",
              "CODI_DISTRICTE     0\n",
              "NOM_DISTRICTE      0\n",
              "CODI_POSTAL        0\n",
              "LATITUD            0\n",
              "LONGITUD           0\n",
              "X_ETRS89           0\n",
              "Y_ETRS89           0\n",
              "X_ED50             0\n",
              "Y_ED50             0\n",
              "dtype: int64"
            ]
          },
          "metadata": {
            "tags": []
          },
          "execution_count": 18
        }
      ]
    },
    {
      "cell_type": "markdown",
      "metadata": {
        "id": "hBv3QKgICGAb",
        "colab_type": "text"
      },
      "source": [
        "## \"EQUIPAMENT \"\n",
        "La información relevante se encuentra dentro de la Columna \"EQUIPAMENT \" que es la que contiene los nombres de los Centros de Atención, por lo que haremos una revisión de cuantas veces se repiten"
      ]
    },
    {
      "cell_type": "code",
      "metadata": {
        "id": "Az7KTbG0B7Bl",
        "colab_type": "code",
        "colab": {
          "base_uri": "https://localhost:8080/",
          "height": 230
        },
        "outputId": "e37e3ea7-dc84-49f8-ea81-aa1409059f71"
      },
      "source": [
        "Hosp['EQUIPAMENT'].value_counts()"
      ],
      "execution_count": 26,
      "outputs": [
        {
          "output_type": "execute_result",
          "data": {
            "text/plain": [
              "Centre d'Atenció Primària Numància                                 8\n",
              "Centre d'Atenció Primària Passeig Maragall                         8\n",
              "Hospital del Mar                                                   8\n",
              "Hospital de la Santa Creu i Sant Pau                               8\n",
              "Centre d'Atenció Primària Doctor Lluís Sayé                        8\n",
              "                                                                  ..\n",
              "Hospital de Dia d'Adolescents Les Corts - Sarrià - Sant Gervasi    1\n",
              "Centre d'Atenció Primària Comte Borrell                            1\n",
              "Centre de Dia Serveis Geriàtrics de Barcelona *Av Meridiana        1\n",
              "CBC Clínica Barceloneta                                            1\n",
              "Hospital de Dia Còrsega                                            1\n",
              "Name: EQUIPAMENT, Length: 125, dtype: int64"
            ]
          },
          "metadata": {
            "tags": []
          },
          "execution_count": 26
        }
      ]
    },
    {
      "cell_type": "code",
      "metadata": {
        "id": "YWb7f7zlCekW",
        "colab_type": "code",
        "colab": {
          "base_uri": "https://localhost:8080/",
          "height": 34
        },
        "outputId": "886895f5-abcb-4685-aa8d-8e6f7a7f8368"
      },
      "source": [
        "# Valores unicos\n",
        "Hosp['EQUIPAMENT'].nunique()"
      ],
      "execution_count": 42,
      "outputs": [
        {
          "output_type": "execute_result",
          "data": {
            "text/plain": [
              "125"
            ]
          },
          "metadata": {
            "tags": []
          },
          "execution_count": 42
        }
      ]
    },
    {
      "cell_type": "code",
      "metadata": {
        "id": "okjY5nKWC_HE",
        "colab_type": "code",
        "colab": {
          "base_uri": "https://localhost:8080/",
          "height": 1000
        },
        "outputId": "2b8d18b3-5414-449b-ac13-5395922e2a95"
      },
      "source": [
        "Hosp['EQUIPAMENT'].unique()"
      ],
      "execution_count": 43,
      "outputs": [
        {
          "output_type": "execute_result",
          "data": {
            "text/plain": [
              "array(['Instituto Oftalmológico Tres Torres',\n",
              "       'Hospital de dia - Numància', \"Centre d'Atenció Primària Roquetes\",\n",
              "       \"Centre d'Atenció Primària Gòtic\",\n",
              "       \"Centre d'Atenció Primària Sardenya\",\n",
              "       \"Centre d'Atenció Primària Besòs\", 'Hospital del Mar',\n",
              "       \"Centre d'Atenció Primària Les Hortes\",\n",
              "       'Hospital Universitari Quirón Dexeus', 'Clínica Corachan',\n",
              "       'Hospital de Nens de Barcelona', 'Clínica Mi Tres Torres',\n",
              "       'Institut Català de Retina - Sarrià', 'Clínica Sant Jordi',\n",
              "       'Clínica Serveis Clinics S.A.U', 'Hospital de Barcelona',\n",
              "       'Hospital Delfos', 'Clínica Planas', 'CBC Clínica Barceloneta',\n",
              "       'Residència Sociosanitaria Assistida Psicoclínica Mare de Déu de la Mercè',\n",
              "       'Hospital Sant Rafael', 'Clínica Centro Médico Aragón',\n",
              "       'Clínica Coroleu', 'Clínica Sagrada Família',\n",
              "       'Fundació Privada en Salut Mental CPB. Doctor Fàbregas',\n",
              "       'Centre Hospitalari Copèrnic', 'Clínica Nostra Senyora del Remei',\n",
              "       'Policlínica Barcelona', 'Centro Médico Teknon',\n",
              "       'Nou Hospital Evangèlic', 'Hospital Plató',\n",
              "       'Hospital Quirónsalud Barcelona',\n",
              "       'Clínica Bonanova de Cirurgia Ocular', 'Clínica Institut Marquès',\n",
              "       'Clínica Creu Blanca', 'Medicina Estètica Balmes',\n",
              "       \"Centre d'Atenció Primària Manso\",\n",
              "       \"Centre d'Atenció Primària Passeig Sant Joan\",\n",
              "       \"Centre d'Atenció Primària Ramon Turró\",\n",
              "       \"Centre d'Atenció Primària Poblenou\",\n",
              "       'Hospital Casa de la Maternitat',\n",
              "       \"Centre d'Atenció Primària Sarrià\",\n",
              "       \"Centre d'Atenció Primària Sants\",\n",
              "       \"Centre d'Atenció Primària Numància\",\n",
              "       'Hospital  Universitari del Sagrat Cor',\n",
              "       \"Centre d'Atenció Primària Casanova\",\n",
              "       \"Centre d'Oftalmologia Barraquer\",\n",
              "       'Hospital El Pilar - Institut Cardiovascular Sant Jordi',\n",
              "       \"Centre d'Atenció Primària Adrià\", \"Hospital de l'Esperança\",\n",
              "       'Fundació Puigvert', 'Hospital de la Santa Creu i Sant Pau',\n",
              "       'Hospital Clínic i Provincial',\n",
              "       \"Centre d'Atenció Primària Roger de Flor\",\n",
              "       \"Centre d'Atenció Primària Sant Andreu\",\n",
              "       \"Centre d'Atenció Primària La Sagrera\", 'Clínica Sant Honorat',\n",
              "       'Vall d\\x92Hebron Barcelona Hospital Campus',\n",
              "       \"Centre d'Atenció Primària Guineueta\",\n",
              "       \"Centre d'Atenció Primària Trinitat Vella\",\n",
              "       \"Centre d'Atenció Primària Drassanes\",\n",
              "       \"Centre d'Atenció Primària Bon Pastor\",\n",
              "       \"Centre d'Atenció Primària Sant Martí\",\n",
              "       \"Centre d'Atenció Primària La Pau\", 'Clínica Geriàtrica Solàrium',\n",
              "       'Hospital Mare de Déu de la Mercè',\n",
              "       \"Centre d'Atenció Primària Doctor Carles Ribas\",\n",
              "       \"Centre d'Atenció Primària Ciutat Meridiana\",\n",
              "       \"Centre d'Atenció Primària El Carmel\",\n",
              "       \"Centre d'Urgències d'Atenció Primària  Ciutat Vella - Peracamps\",\n",
              "       'Clínica Oftalmològica Visioncore',\n",
              "       \"Centre d'Atenció Primària Doctor Lluís Sayé\",\n",
              "       'Hospital Dos de Maig',\n",
              "       'Hospital Fremap - Centre de Prevenció i Rehabilitació',\n",
              "       \"Centre d'Atenció Primària Montnegre\",\n",
              "       \"Centre d'Atenció Primària Sanllehy\",\n",
              "       \"Centre d'Atenció Primària Barceloneta\",\n",
              "       \"Centre d'Atenció Primària Vallvidrera\",\n",
              "       \"Centre d'Atenció Primària Carles I\",\n",
              "       \"Centre d'Atenció Primària El Clot\",\n",
              "       \"Centre d'Atenció Primària Horta\",\n",
              "       \"Centre d'Atenció Primària Les Corts\",\n",
              "       \"Centre d'Atenció Primària Vila Olímpica\",\n",
              "       \"Centre d'Atenció Primària Chafarinas\",\n",
              "       \"Centre d'Atenció Primària Passeig Maragall\",\n",
              "       \"Centre d'Atenció Primària Casc Antic\",\n",
              "       \"Centre d'Atenció Primària Rio de Janeiro\",\n",
              "       \"Centre d'Atenció Primària Bordeta - Magòria\",\n",
              "       'Centre de Dia Serveis Geriàtrics de Barcelona *Av Meridiana',\n",
              "       'Comunitat Terapèutica Clínica Llúria',\n",
              "       'Institut Oftalmologia Gabriel Simón',\n",
              "       \"Centre d'Atenció Primària Turó\",\n",
              "       'Hospital CIMA. Centro Internacional de Medicina Avanzada',\n",
              "       \"Centre d'Atenció Primària Pare Claret\",\n",
              "       'Fundació Esclerosi Múltiple',\n",
              "       \"Centre d'Atenció Primària Sagrada Família\",\n",
              "       'Hospital de Dia per Adolescents en Salut Mental',\n",
              "       \"Centre d'Atenció Primària de la Marina\",\n",
              "       \"Centre d'Atenció Primària Larrard\",\n",
              "       \"Centre d'Atenció Primària Les Planes\",\n",
              "       'Hospital  Sociosanitari Mutuam Güell',\n",
              "       \"Centre d'Atenció Primària Vallcarca-Sant Gervasi\",\n",
              "       'Parc de Salut Mar - Centre Fòrum',\n",
              "       \"Centre d'Atenció Primària San Rafael\",\n",
              "       'Fundació Hospital de Dia de Nou Barris',\n",
              "       'Clinica del Son Estivill', 'Parc Sanitari Pere Virgili',\n",
              "       \"Hospital de Dia d'Adolescents Les Corts - Sarrià - Sant Gervasi\",\n",
              "       'Centre Integral de Salut Cotxeres',\n",
              "       'Fundació ACE - Institut Català de Neurociències Aplicades',\n",
              "       'Clínica Sant Antoni', 'Clínica Dermatològica Dermik',\n",
              "       \"Centre d'Atenció Primària Comte Borrell\",\n",
              "       \"Centre d'Urgències d'Atenció Primària Horta\",\n",
              "       'Centre de Salut Isabel Roig-Casernes de Sant Andreu',\n",
              "       \"Centre d'Atenció Pediàtrica Integral Barcelona Esquerra\",\n",
              "       \"Centre d'Atenció Primària Guinardó\",\n",
              "       'Policlínica ICOA - Instituto de Cirugia Ocular Avanzada',\n",
              "       \"Cliníca Axisclínic *Comte d'Urgell\",\n",
              "       'Cliníca Axisclínic *Sant Andreu', 'Hospital de Dia Còrsega',\n",
              "       \"Centre d'Atenció Primària  Vila de Gràcia-Cibeles\",\n",
              "       'Instituto de Trastornos Alimentarios',\n",
              "       'Clínica Podològica Integral', \"Centre d'Atenció Primària Roger\"],\n",
              "      dtype=object)"
            ]
          },
          "metadata": {
            "tags": []
          },
          "execution_count": 43
        }
      ]
    },
    {
      "cell_type": "code",
      "metadata": {
        "id": "sAZbvH8iEvxd",
        "colab_type": "code",
        "colab": {
          "base_uri": "https://localhost:8080/",
          "height": 34
        },
        "outputId": "a4bcba6f-185f-4531-b1b0-bb79f7e9f2e5"
      },
      "source": [
        "Hosp_Group=Hosp.groupby('EQUIPAMENT')\n",
        "Hosp_Group"
      ],
      "execution_count": 48,
      "outputs": [
        {
          "output_type": "stream",
          "text": [
            "<pandas.core.groupby.generic.DataFrameGroupBy object at 0x7f556ad7bac8>\n"
          ],
          "name": "stdout"
        }
      ]
    },
    {
      "cell_type": "code",
      "metadata": {
        "id": "HSGISEQpFYnq",
        "colab_type": "code",
        "colab": {
          "base_uri": "https://localhost:8080/",
          "height": 34
        },
        "outputId": "cfa55cd7-c113-4dbd-ec68-71eb74ec3b71"
      },
      "source": [
        "print ('\\x1b[1;33m'\"Number of duplicated rows:\"'\\x1b[0m', Hosp['EQUIPAMENT'].duplicated().sum())"
      ],
      "execution_count": 49,
      "outputs": [
        {
          "output_type": "stream",
          "text": [
            "\u001b[1;33mNumber of duplicated rows:\u001b[0m 274\n"
          ],
          "name": "stdout"
        }
      ]
    },
    {
      "cell_type": "markdown",
      "metadata": {
        "id": "w5L6SCsjGeRo",
        "colab_type": "text"
      },
      "source": [
        "# Cleaning\n",
        "\n",
        "Al ser nuestra variable principal el nombre del Centro de Salud, realizamos la limpueza de la Data (Duplicados) sobre esta Columna."
      ]
    },
    {
      "cell_type": "code",
      "metadata": {
        "id": "Fj5r7Q68GcGJ",
        "colab_type": "code",
        "colab": {}
      },
      "source": [
        "Hosp_clean=Hosp.drop_duplicates('EQUIPAMENT')"
      ],
      "execution_count": 0,
      "outputs": []
    },
    {
      "cell_type": "code",
      "metadata": {
        "id": "d5dylBrvGHlq",
        "colab_type": "code",
        "colab": {
          "base_uri": "https://localhost:8080/",
          "height": 354
        },
        "outputId": "b83c909a-4ae8-462f-84b3-071b30351911"
      },
      "source": [
        "Hosp_clean.nunique()"
      ],
      "execution_count": 54,
      "outputs": [
        {
          "output_type": "execute_result",
          "data": {
            "text/plain": [
              "CODI_EQUIPAMENT    125\n",
              "EQUIPAMENT         125\n",
              "SECCIO              10\n",
              "TIPUS_VIA            7\n",
              "NOM_CARRER         106\n",
              "NUM_CARRER_1        79\n",
              "NUM_CARRER_2        82\n",
              "CODI_BARRI          53\n",
              "NUM_BARRI           53\n",
              "CODI_DISTRICTE      10\n",
              "NOM_DISTRICTE       10\n",
              "CODI_POSTAL         37\n",
              "LATITUD            120\n",
              "LONGITUD           120\n",
              "X_ETRS89           121\n",
              "Y_ETRS89           121\n",
              "X_ED50             121\n",
              "Y_ED50             121\n",
              "dtype: int64"
            ]
          },
          "metadata": {
            "tags": []
          },
          "execution_count": 54
        }
      ]
    },
    {
      "cell_type": "markdown",
      "metadata": {
        "id": "Pqyh9X8ZGySV",
        "colab_type": "text"
      },
      "source": [
        "Podemos apreciar que se tienen Centros de Atencion medica solo en 53 barrios"
      ]
    },
    {
      "cell_type": "code",
      "metadata": {
        "id": "GQBrcV8qGsDa",
        "colab_type": "code",
        "colab": {
          "base_uri": "https://localhost:8080/",
          "height": 461
        },
        "outputId": "249ca683-11d9-4140-cebd-ad8d81e27bbd"
      },
      "source": [
        "Hosp_clean.info()"
      ],
      "execution_count": 56,
      "outputs": [
        {
          "output_type": "stream",
          "text": [
            "<class 'pandas.core.frame.DataFrame'>\n",
            "Int64Index: 125 entries, 0 to 397\n",
            "Data columns (total 18 columns):\n",
            " #   Column           Non-Null Count  Dtype  \n",
            "---  ------           --------------  -----  \n",
            " 0   CODI_EQUIPAMENT  125 non-null    int64  \n",
            " 1   EQUIPAMENT       125 non-null    object \n",
            " 2   SECCIO           125 non-null    object \n",
            " 3   TIPUS_VIA        125 non-null    object \n",
            " 4   NOM_CARRER       125 non-null    object \n",
            " 5   NUM_CARRER_1     125 non-null    int64  \n",
            " 6   NUM_CARRER_2     124 non-null    float64\n",
            " 7   CODI_BARRI       125 non-null    int64  \n",
            " 8   NUM_BARRI        125 non-null    object \n",
            " 9   CODI_DISTRICTE   125 non-null    int64  \n",
            " 10  NOM_DISTRICTE    125 non-null    object \n",
            " 11  CODI_POSTAL      125 non-null    int64  \n",
            " 12  LATITUD          125 non-null    float64\n",
            " 13  LONGITUD         125 non-null    float64\n",
            " 14  X_ETRS89         125 non-null    float64\n",
            " 15  Y_ETRS89         125 non-null    float64\n",
            " 16  X_ED50           125 non-null    float64\n",
            " 17  Y_ED50           125 non-null    float64\n",
            "dtypes: float64(7), int64(5), object(6)\n",
            "memory usage: 18.6+ KB\n"
          ],
          "name": "stdout"
        }
      ]
    },
    {
      "cell_type": "code",
      "metadata": {
        "id": "Uf2FowFVJeil",
        "colab_type": "code",
        "colab": {
          "base_uri": "https://localhost:8080/",
          "height": 34
        },
        "outputId": "fe1872f3-e414-491c-9aaf-e827d20e31d0"
      },
      "source": [
        "#Hosp_clean['EQUIPAMENT'].value_counts()==1\n",
        "# nos dice si algun nos quedó algun centro de salud que tenga más de dos valores dentro de la Columna\n",
        "[i for i, x in enumerate(Hosp_clean['EQUIPAMENT'].value_counts()!=1) if x]"
      ],
      "execution_count": 67,
      "outputs": [
        {
          "output_type": "execute_result",
          "data": {
            "text/plain": [
              "[]"
            ]
          },
          "metadata": {
            "tags": []
          },
          "execution_count": 67
        }
      ]
    },
    {
      "cell_type": "code",
      "metadata": {
        "id": "0dg7xBV1IGqE",
        "colab_type": "code",
        "colab": {
          "base_uri": "https://localhost:8080/",
          "height": 34
        },
        "outputId": "70952f5a-4ac9-4625-aad1-0e8eadac86fa"
      },
      "source": [
        "Hosp_clean.shape"
      ],
      "execution_count": 69,
      "outputs": [
        {
          "output_type": "execute_result",
          "data": {
            "text/plain": [
              "(125, 18)"
            ]
          },
          "metadata": {
            "tags": []
          },
          "execution_count": 69
        }
      ]
    },
    {
      "cell_type": "code",
      "metadata": {
        "id": "UHPCBuyCIsVN",
        "colab_type": "code",
        "colab": {}
      },
      "source": [
        ""
      ],
      "execution_count": 0,
      "outputs": []
    },
    {
      "cell_type": "markdown",
      "metadata": {
        "id": "JfOllmU4NAyn",
        "colab_type": "text"
      },
      "source": [
        "## Analisis\n",
        "\n",
        "Realizamos un analisis de los Barrios con más Hosp"
      ]
    },
    {
      "cell_type": "code",
      "metadata": {
        "id": "m18_FexDNypr",
        "colab_type": "code",
        "colab": {
          "base_uri": "https://localhost:8080/",
          "height": 186
        },
        "outputId": "fa0ebc6c-2512-4912-ea93-1cd57a07d395"
      },
      "source": [
        "sns.set(rc={'figure.figsize':(20,8.27)})\n",
        "\n"
      ],
      "execution_count": 79,
      "outputs": [
        {
          "output_type": "error",
          "ename": "NameError",
          "evalue": "ignored",
          "traceback": [
            "\u001b[0;31m---------------------------------------------------------------------------\u001b[0m",
            "\u001b[0;31mNameError\u001b[0m                                 Traceback (most recent call last)",
            "\u001b[0;32m<ipython-input-79-a29def2032c6>\u001b[0m in \u001b[0;36m<module>\u001b[0;34m()\u001b[0m\n\u001b[1;32m      1\u001b[0m \u001b[0msns\u001b[0m\u001b[0;34m.\u001b[0m\u001b[0mset\u001b[0m\u001b[0;34m(\u001b[0m\u001b[0mrc\u001b[0m\u001b[0;34m=\u001b[0m\u001b[0;34m{\u001b[0m\u001b[0;34m'figure.figsize'\u001b[0m\u001b[0;34m:\u001b[0m\u001b[0;34m(\u001b[0m\u001b[0;36m20\u001b[0m\u001b[0;34m,\u001b[0m\u001b[0;36m8.27\u001b[0m\u001b[0;34m)\u001b[0m\u001b[0;34m}\u001b[0m\u001b[0;34m)\u001b[0m\u001b[0;34m\u001b[0m\u001b[0;34m\u001b[0m\u001b[0m\n\u001b[0;32m----> 2\u001b[0;31m \u001b[0mset_xticklabels\u001b[0m\u001b[0;34m(\u001b[0m\u001b[0mrotation\u001b[0m\u001b[0;34m=\u001b[0m\u001b[0;36m30\u001b[0m\u001b[0;34m)\u001b[0m\u001b[0;34m\u001b[0m\u001b[0;34m\u001b[0m\u001b[0m\n\u001b[0m",
            "\u001b[0;31mNameError\u001b[0m: name 'set_xticklabels' is not defined"
          ]
        }
      ]
    },
    {
      "cell_type": "code",
      "metadata": {
        "id": "6xj9mo3GNDG4",
        "colab_type": "code",
        "colab": {
          "base_uri": "https://localhost:8080/",
          "height": 785
        },
        "outputId": "e8c1159f-7789-41cf-f393-9ef063cda868"
      },
      "source": [
        "#cantidad de siniestros a por año\n",
        "ax=sns.countplot('NUM_BARRI',data=Hosp_clean)\n",
        "ax.set_xticklabels(ax.get_xticklabels(), rotation=90)\n",
        "ax.set_ylabel('#Hosp')\n",
        "ax.set_xlabel('Barrio')\n",
        "ax.set_title('Hospitales por Barrio')\n",
        "\n"
      ],
      "execution_count": 86,
      "outputs": [
        {
          "output_type": "execute_result",
          "data": {
            "text/plain": [
              "Text(0.5, 1.0, 'Hospitales por Barrio')"
            ]
          },
          "metadata": {
            "tags": []
          },
          "execution_count": 86
        },
        {
          "output_type": "display_data",
          "data": {
            "image/png": "[encoded data removed]",
            "text/plain": [
              "<Figure size 1440x595.44 with 1 Axes>"
            ]
          },
          "metadata": {
            "tags": []
          }
        }
      ]
    },
    {
      "cell_type": "code",
      "metadata": {
        "id": "FpxL1DKPQh6I",
        "colab_type": "code",
        "colab": {}
      },
      "source": [
        ""
      ],
      "execution_count": 0,
      "outputs": []
    },
    {
      "cell_type": "code",
      "metadata": {
        "id": "suaNrgcNNZAn",
        "colab_type": "code",
        "colab": {}
      },
      "source": [
        ""
      ],
      "execution_count": 0,
      "outputs": []
    }
  ]
}